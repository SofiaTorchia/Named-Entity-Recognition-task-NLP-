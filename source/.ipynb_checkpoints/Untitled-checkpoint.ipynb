{
 "cells": [
  {
   "cell_type": "code",
   "execution_count": 1,
   "id": "41f2aa7b",
   "metadata": {},
   "outputs": [],
   "source": [
    "# commentare il codice\n",
    "# patience nella discesa del gradiente, early stopping\n",
    "# https://pytorch.org/docs/stable/notes/randomness.html\n",
    "# salvare i pesi del modello scelto\n",
    "# pre-embedding\n",
    "# cuda cpu..\n",
    "# evaluate the result\n",
    "# controllo per input errati, fuori da un range\n",
    "# differenza tra numero di token e numero di words\n",
    "# rimuovere punteggiatura?\n",
    "# your model must be loaded on the device \"device\"\n",
    "# model.py copiato nella cartella stud"
   ]
  },
  {
   "cell_type": "code",
   "execution_count": 1,
   "id": "d0e35bda",
   "metadata": {},
   "outputs": [],
   "source": [
    "import torch\n",
    "from torch import nn\n",
    "from torch.utils.data import Dataset\n",
    "from tqdm import tqdm\n",
    "from collections import Counter\n",
    "import random\n",
    "from matplotlib import pyplot as plt\n",
    "import os\n",
    "import pickle\n",
    "\n",
    "import numpy as np\n",
    "import pandas as pd\n",
    "from torch.utils.data import DataLoader\n",
    "import torch.optim as optim\n",
    "\n",
    "import stud.MakeDataset as md\n",
    "import stud.POSTaggerModel as pt\n",
    "import stud.Trainer as tr\n",
    "import importlib\n",
    "importlib.reload(md)\n",
    "importlib.reload(pt)\n",
    "importlib.reload(tr)\n",
    "\n",
    "import stud.SkipGram as sk\n",
    "import stud.Word2VecDataset as wv\n",
    "import stud.SKTrainer as sktr\n",
    "importlib.reload(sk)\n",
    "importlib.reload(sktr)\n",
    "importlib.reload(wv)\n",
    "\n",
    "SEED = 1234\n",
    "\n",
    "random.seed(SEED)\n",
    "np.random.seed(SEED)\n",
    "torch.manual_seed(SEED)\n",
    "torch.backends.cudnn.deterministic = True"
   ]
  },
  {
   "cell_type": "code",
   "execution_count": null,
   "id": "013e1a75",
   "metadata": {},
   "outputs": [],
   "source": []
  },
  {
   "cell_type": "code",
   "execution_count": 16,
   "id": "c8866f07",
   "metadata": {},
   "outputs": [
    {
     "ename": "TypeError",
     "evalue": "predict() missing 1 required positional argument: 'self'",
     "output_type": "error",
     "traceback": [
      "\u001b[0;31m---------------------------------------------------------------------------\u001b[0m",
      "\u001b[0;31mTypeError\u001b[0m                                 Traceback (most recent call last)",
      "Input \u001b[0;32mIn [16]\u001b[0m, in \u001b[0;36m<cell line: 18>\u001b[0;34m()\u001b[0m\n\u001b[1;32m     16\u001b[0m stud\u001b[38;5;241m.\u001b[39mimplementation\u001b[38;5;241m.\u001b[39mbuild_model(\u001b[38;5;124m'\u001b[39m\u001b[38;5;124mgpu\u001b[39m\u001b[38;5;124m'\u001b[39m)\n\u001b[1;32m     17\u001b[0m tokens \u001b[38;5;241m=\u001b[39m [[\u001b[38;5;124m'\u001b[39m\u001b[38;5;124mhi\u001b[39m\u001b[38;5;124m'\u001b[39m]]\n\u001b[0;32m---> 18\u001b[0m \u001b[43mstud\u001b[49m\u001b[38;5;241;43m.\u001b[39;49m\u001b[43mimplementation\u001b[49m\u001b[38;5;241;43m.\u001b[39;49m\u001b[43mStudentModel\u001b[49m\u001b[38;5;241;43m.\u001b[39;49m\u001b[43mpredict\u001b[49m\u001b[43m(\u001b[49m\u001b[43mtokens\u001b[49m\u001b[43m \u001b[49m\u001b[38;5;241;43m=\u001b[39;49m\u001b[43m \u001b[49m\u001b[43mtokens\u001b[49m\u001b[43m)\u001b[49m\n",
      "\u001b[0;31mTypeError\u001b[0m: predict() missing 1 required positional argument: 'self'"
     ]
    }
   ],
   "source": [
    "import stud.implementation \n",
    "import importlib\n",
    "importlib.reload(stud.implementation)\n",
    "data_params = {}\n",
    "stop_token = '#'\n",
    "unk_token = 'UNK'\n",
    "pad_token = '<pad>'\n",
    "data_params['window_size'] = 5\n",
    "data_params['window_shift'] = 1\n",
    "data_params['stop_token'] = stop_token\n",
    "data_params['unk_token'] = unk_token\n",
    "data_params['pad_token'] = pad_token\n",
    "data_params['vocab_size'] = 10000\n",
    "\n",
    "#stud.implementation.StudentModel.build_model(data_params)\n",
    "stud.implementation.build_model('gpu')\n",
    "tokens = [['hi']]\n",
    "stud.implementation.StudentModel.predict(tokens = tokens)"
   ]
  },
  {
   "cell_type": "code",
   "execution_count": null,
   "id": "d025463e",
   "metadata": {},
   "outputs": [],
   "source": []
  },
  {
   "cell_type": "code",
   "execution_count": null,
   "id": "dcc346ed",
   "metadata": {},
   "outputs": [],
   "source": []
  },
  {
   "cell_type": "code",
   "execution_count": null,
   "id": "b8468273",
   "metadata": {},
   "outputs": [],
   "source": []
  },
  {
   "cell_type": "code",
   "execution_count": null,
   "id": "49efc2ab",
   "metadata": {},
   "outputs": [],
   "source": []
  },
  {
   "cell_type": "code",
   "execution_count": 2,
   "id": "f5c6df3e",
   "metadata": {},
   "outputs": [],
   "source": [
    "train_path = '../data/train.tsv'\n",
    "dev_path = '../data/dev.tsv'\n",
    "output_folder = '../model/Output folder'\n",
    "stop_token = '#'\n",
    "unk_token = 'UNK'\n",
    "pad_token = '<pad>'\n",
    "window_size = 5\n",
    "window_shift = 1\n",
    "vocab_size = 10000\n",
    "embedding_dim = 100"
   ]
  },
  {
   "cell_type": "code",
   "execution_count": 3,
   "id": "b254a1d2",
   "metadata": {},
   "outputs": [],
   "source": [
    "# no\n",
    "data = md.MakeDataset(train_path, window_size, window_shift, stop_token, unk_token, pad_token, vocab_size)\n",
    "with open(f'stud/data.pickle', 'wb') as file:\n",
    "    pickle.dump(data, file) "
   ]
  },
  {
   "cell_type": "code",
   "execution_count": 4,
   "id": "bf05c635",
   "metadata": {},
   "outputs": [],
   "source": [
    "with open(f'stud/data.pickle', 'rb') as file:\n",
    "    data = pickle.load(file)\n",
    "train_dataset = data.make_dataset(train_path)\n",
    "train_dataset = DataLoader(train_dataset, batch_size = 5000, shuffle = True)\n",
    "dev_dataset = data.make_dataset(dev_path)\n",
    "dev_dataset = DataLoader(dev_dataset, batch_size = 1000, shuffle = False)"
   ]
  },
  {
   "cell_type": "code",
   "execution_count": 5,
   "id": "3dcf5056",
   "metadata": {},
   "outputs": [],
   "source": [
    "importlib.reload(wv)\n",
    "word2vec = wv.Word2VecDataset(data.tok_sentences, data.word2id, window_size, data.frequency, data.tot_occurrences)\n",
    "word2vec = DataLoader(word2vec,batch_size = 100)"
   ]
  },
  {
   "cell_type": "code",
   "execution_count": 6,
   "id": "4a5b418b",
   "metadata": {},
   "outputs": [
    {
     "name": "stderr",
     "output_type": "stream",
     "text": [
      "  5%|██▏                                         | 1/20 [00:34<11:00, 34.77s/it]"
     ]
    },
    {
     "name": "stdout",
     "output_type": "stream",
     "text": [
      "Epoch: 0, avg epoch loss = 7.1885\n"
     ]
    },
    {
     "name": "stderr",
     "output_type": "stream",
     "text": [
      "\r",
      " 10%|████▍                                       | 2/20 [01:09<10:24, 34.70s/it]"
     ]
    },
    {
     "name": "stdout",
     "output_type": "stream",
     "text": [
      "Epoch: 1, avg epoch loss = 6.3299\n"
     ]
    },
    {
     "name": "stderr",
     "output_type": "stream",
     "text": [
      " 10%|████▍                                       | 2/20 [01:38<14:45, 49.17s/it]\n"
     ]
    },
    {
     "ename": "KeyboardInterrupt",
     "evalue": "",
     "output_type": "error",
     "traceback": [
      "\u001b[0;31m---------------------------------------------------------------------------\u001b[0m",
      "\u001b[0;31mKeyboardInterrupt\u001b[0m                         Traceback (most recent call last)",
      "Input \u001b[0;32mIn [6]\u001b[0m, in \u001b[0;36m<cell line: 6>\u001b[0;34m()\u001b[0m\n\u001b[1;32m      4\u001b[0m sk_model \u001b[38;5;241m=\u001b[39m sk\u001b[38;5;241m.\u001b[39mSkipGram(vocab_size, embedding_dim, data\u001b[38;5;241m.\u001b[39mid2word)\n\u001b[1;32m      5\u001b[0m sk_trainer \u001b[38;5;241m=\u001b[39m sktr\u001b[38;5;241m.\u001b[39mSKTrainer(sk_model, optim\u001b[38;5;241m.\u001b[39mAdam(sk_model\u001b[38;5;241m.\u001b[39mparameters()))\n\u001b[0;32m----> 6\u001b[0m \u001b[43msk_trainer\u001b[49m\u001b[38;5;241;43m.\u001b[39;49m\u001b[43mtrain\u001b[49m\u001b[43m(\u001b[49m\u001b[43mword2vec\u001b[49m\u001b[43m,\u001b[49m\u001b[43m \u001b[49m\u001b[43moutput_folder\u001b[49m\u001b[43m,\u001b[49m\u001b[43m \u001b[49m\u001b[43mvocab_size\u001b[49m\u001b[43m,\u001b[49m\u001b[43m \u001b[49m\u001b[38;5;241;43m20\u001b[39;49m\u001b[43m)\u001b[49m\n\u001b[1;32m      8\u001b[0m \u001b[38;5;28;01mwith\u001b[39;00m \u001b[38;5;28mopen\u001b[39m(\u001b[38;5;124mf\u001b[39m\u001b[38;5;124m'\u001b[39m\u001b[38;5;124mstud/emb_model.pickle\u001b[39m\u001b[38;5;124m'\u001b[39m, \u001b[38;5;124m'\u001b[39m\u001b[38;5;124mwb\u001b[39m\u001b[38;5;124m'\u001b[39m) \u001b[38;5;28;01mas\u001b[39;00m file:\n\u001b[1;32m      9\u001b[0m     pickle\u001b[38;5;241m.\u001b[39mdump(sk_model, file)\n",
      "File \u001b[0;32m~/Desktop/Università - corsi e materiale/NLP/HW1/torchia_1679164_hw1/hw1/stud/SKTrainer.py:25\u001b[0m, in \u001b[0;36mSKTrainer.train\u001b[0;34m(self, train_dataset, output_folder, vocab_size, epochs)\u001b[0m\n\u001b[1;32m     22\u001b[0m \u001b[38;5;28;01mfor\u001b[39;00m i, x \u001b[38;5;129;01min\u001b[39;00m \u001b[38;5;28menumerate\u001b[39m(inputs):\n\u001b[1;32m     23\u001b[0m     one_hot_input[i, x] \u001b[38;5;241m=\u001b[39m \u001b[38;5;241m1\u001b[39m\n\u001b[0;32m---> 25\u001b[0m output_distribution \u001b[38;5;241m=\u001b[39m \u001b[38;5;28;43mself\u001b[39;49m\u001b[38;5;241;43m.\u001b[39;49m\u001b[43mmodel\u001b[49m\u001b[43m(\u001b[49m\u001b[43mone_hot_input\u001b[49m\u001b[43m)\u001b[49m\n\u001b[1;32m     26\u001b[0m loss \u001b[38;5;241m=\u001b[39m \u001b[38;5;28mself\u001b[39m\u001b[38;5;241m.\u001b[39mmodel\u001b[38;5;241m.\u001b[39mloss_function(output_distribution, targets) \n\u001b[1;32m     27\u001b[0m loss\u001b[38;5;241m.\u001b[39mbackward()\n",
      "File \u001b[0;32m~/.python-environments/default/lib64/python3.9/site-packages/torch/nn/modules/module.py:1110\u001b[0m, in \u001b[0;36mModule._call_impl\u001b[0;34m(self, *input, **kwargs)\u001b[0m\n\u001b[1;32m   1106\u001b[0m \u001b[38;5;66;03m# If we don't have any hooks, we want to skip the rest of the logic in\u001b[39;00m\n\u001b[1;32m   1107\u001b[0m \u001b[38;5;66;03m# this function, and just call forward.\u001b[39;00m\n\u001b[1;32m   1108\u001b[0m \u001b[38;5;28;01mif\u001b[39;00m \u001b[38;5;129;01mnot\u001b[39;00m (\u001b[38;5;28mself\u001b[39m\u001b[38;5;241m.\u001b[39m_backward_hooks \u001b[38;5;129;01mor\u001b[39;00m \u001b[38;5;28mself\u001b[39m\u001b[38;5;241m.\u001b[39m_forward_hooks \u001b[38;5;129;01mor\u001b[39;00m \u001b[38;5;28mself\u001b[39m\u001b[38;5;241m.\u001b[39m_forward_pre_hooks \u001b[38;5;129;01mor\u001b[39;00m _global_backward_hooks\n\u001b[1;32m   1109\u001b[0m         \u001b[38;5;129;01mor\u001b[39;00m _global_forward_hooks \u001b[38;5;129;01mor\u001b[39;00m _global_forward_pre_hooks):\n\u001b[0;32m-> 1110\u001b[0m     \u001b[38;5;28;01mreturn\u001b[39;00m \u001b[43mforward_call\u001b[49m\u001b[43m(\u001b[49m\u001b[38;5;241;43m*\u001b[39;49m\u001b[38;5;28;43minput\u001b[39;49m\u001b[43m,\u001b[49m\u001b[43m \u001b[49m\u001b[38;5;241;43m*\u001b[39;49m\u001b[38;5;241;43m*\u001b[39;49m\u001b[43mkwargs\u001b[49m\u001b[43m)\u001b[49m\n\u001b[1;32m   1111\u001b[0m \u001b[38;5;66;03m# Do not call functions when jit is used\u001b[39;00m\n\u001b[1;32m   1112\u001b[0m full_backward_hooks, non_full_backward_hooks \u001b[38;5;241m=\u001b[39m [], []\n",
      "File \u001b[0;32m~/Desktop/Università - corsi e materiale/NLP/HW1/torchia_1679164_hw1/hw1/stud/SkipGram.py:15\u001b[0m, in \u001b[0;36mSkipGram.forward\u001b[0;34m(self, input_idx)\u001b[0m\n\u001b[1;32m     14\u001b[0m \u001b[38;5;28;01mdef\u001b[39;00m \u001b[38;5;21mforward\u001b[39m(\u001b[38;5;28mself\u001b[39m, input_idx):\n\u001b[0;32m---> 15\u001b[0m     input_embeddings \u001b[38;5;241m=\u001b[39m \u001b[38;5;28;43mself\u001b[39;49m\u001b[38;5;241;43m.\u001b[39;49m\u001b[43membeddings\u001b[49m\u001b[43m(\u001b[49m\u001b[43minput_idx\u001b[49m\u001b[43m)\u001b[49m  \n\u001b[1;32m     16\u001b[0m     output_embeddings \u001b[38;5;241m=\u001b[39m \u001b[38;5;28mself\u001b[39m\u001b[38;5;241m.\u001b[39moutput_weights(input_embeddings)\n\u001b[1;32m     17\u001b[0m     output \u001b[38;5;241m=\u001b[39m output_embeddings\n",
      "File \u001b[0;32m~/.python-environments/default/lib64/python3.9/site-packages/torch/nn/modules/module.py:1110\u001b[0m, in \u001b[0;36mModule._call_impl\u001b[0;34m(self, *input, **kwargs)\u001b[0m\n\u001b[1;32m   1106\u001b[0m \u001b[38;5;66;03m# If we don't have any hooks, we want to skip the rest of the logic in\u001b[39;00m\n\u001b[1;32m   1107\u001b[0m \u001b[38;5;66;03m# this function, and just call forward.\u001b[39;00m\n\u001b[1;32m   1108\u001b[0m \u001b[38;5;28;01mif\u001b[39;00m \u001b[38;5;129;01mnot\u001b[39;00m (\u001b[38;5;28mself\u001b[39m\u001b[38;5;241m.\u001b[39m_backward_hooks \u001b[38;5;129;01mor\u001b[39;00m \u001b[38;5;28mself\u001b[39m\u001b[38;5;241m.\u001b[39m_forward_hooks \u001b[38;5;129;01mor\u001b[39;00m \u001b[38;5;28mself\u001b[39m\u001b[38;5;241m.\u001b[39m_forward_pre_hooks \u001b[38;5;129;01mor\u001b[39;00m _global_backward_hooks\n\u001b[1;32m   1109\u001b[0m         \u001b[38;5;129;01mor\u001b[39;00m _global_forward_hooks \u001b[38;5;129;01mor\u001b[39;00m _global_forward_pre_hooks):\n\u001b[0;32m-> 1110\u001b[0m     \u001b[38;5;28;01mreturn\u001b[39;00m \u001b[43mforward_call\u001b[49m\u001b[43m(\u001b[49m\u001b[38;5;241;43m*\u001b[39;49m\u001b[38;5;28;43minput\u001b[39;49m\u001b[43m,\u001b[49m\u001b[43m \u001b[49m\u001b[38;5;241;43m*\u001b[39;49m\u001b[38;5;241;43m*\u001b[39;49m\u001b[43mkwargs\u001b[49m\u001b[43m)\u001b[49m\n\u001b[1;32m   1111\u001b[0m \u001b[38;5;66;03m# Do not call functions when jit is used\u001b[39;00m\n\u001b[1;32m   1112\u001b[0m full_backward_hooks, non_full_backward_hooks \u001b[38;5;241m=\u001b[39m [], []\n",
      "File \u001b[0;32m~/.python-environments/default/lib64/python3.9/site-packages/torch/nn/modules/linear.py:103\u001b[0m, in \u001b[0;36mLinear.forward\u001b[0;34m(self, input)\u001b[0m\n\u001b[1;32m    102\u001b[0m \u001b[38;5;28;01mdef\u001b[39;00m \u001b[38;5;21mforward\u001b[39m(\u001b[38;5;28mself\u001b[39m, \u001b[38;5;28minput\u001b[39m: Tensor) \u001b[38;5;241m-\u001b[39m\u001b[38;5;241m>\u001b[39m Tensor:\n\u001b[0;32m--> 103\u001b[0m     \u001b[38;5;28;01mreturn\u001b[39;00m \u001b[43mF\u001b[49m\u001b[38;5;241;43m.\u001b[39;49m\u001b[43mlinear\u001b[49m\u001b[43m(\u001b[49m\u001b[38;5;28;43minput\u001b[39;49m\u001b[43m,\u001b[49m\u001b[43m \u001b[49m\u001b[38;5;28;43mself\u001b[39;49m\u001b[38;5;241;43m.\u001b[39;49m\u001b[43mweight\u001b[49m\u001b[43m,\u001b[49m\u001b[43m \u001b[49m\u001b[38;5;28;43mself\u001b[39;49m\u001b[38;5;241;43m.\u001b[39;49m\u001b[43mbias\u001b[49m\u001b[43m)\u001b[49m\n",
      "\u001b[0;31mKeyboardInterrupt\u001b[0m: "
     ]
    }
   ],
   "source": [
    "# no\n",
    "importlib.reload(sk)\n",
    "importlib.reload(sktr)\n",
    "sk_model = sk.SkipGram(vocab_size, embedding_dim, data.id2word)\n",
    "sk_trainer = sktr.SKTrainer(sk_model, optim.Adam(sk_model.parameters()))\n",
    "sk_trainer.train(word2vec, output_folder, vocab_size, 20)\n",
    "\n",
    "with open(f'stud/emb_model.pickle', 'wb') as file:\n",
    "    pickle.dump(sk_model, file)"
   ]
  },
  {
   "cell_type": "code",
   "execution_count": 18,
   "id": "1dbbe515",
   "metadata": {
    "scrolled": true
   },
   "outputs": [],
   "source": [
    "with open(f'stud/emb_model.pickle', 'rb') as file:\n",
    "    sk_model = pickle.load(file)"
   ]
  },
  {
   "cell_type": "code",
   "execution_count": 27,
   "id": "3528dca7",
   "metadata": {},
   "outputs": [],
   "source": [
    "weights = sk_model.state_dict()['output_weights.weight']\n",
    "\n",
    "class HParams():\n",
    "    vocab_size = vocab_size\n",
    "    hidden_dim = 20\n",
    "    embedding_dim = embedding_dim\n",
    "    num_classes = 13\n",
    "    bidirectional = False\n",
    "    num_layers = 1\n",
    "    dropout = 0.0\n",
    "    embeddings = weights\n",
    "    \n",
    "params = HParams()"
   ]
  },
  {
   "cell_type": "code",
   "execution_count": 20,
   "id": "1038901e",
   "metadata": {},
   "outputs": [
    {
     "name": "stdout",
     "output_type": "stream",
     "text": [
      "Initializing embeddings from pretrained\n"
     ]
    }
   ],
   "source": [
    "# no\n",
    "loss_function = nn.CrossEntropyLoss(ignore_index = data.label2id[pad_token])\n",
    "postagger = pt.POSTaggerModel(params)\n",
    "trainer = tr.Trainer(\n",
    "    model = postagger,\n",
    "    loss_function = loss_function,\n",
    "    optimizer = optim.Adam(postagger.parameters()),\n",
    "    label_vocab = data.label2id,\n",
    ")"
   ]
  },
  {
   "cell_type": "code",
   "execution_count": 21,
   "id": "0e13f470",
   "metadata": {},
   "outputs": [
    {
     "name": "stderr",
     "output_type": "stream",
     "text": [
      "100%|█████████████████████████████████████████| 30/30 [36:41<00:00, 73.38s/it]\n"
     ]
    }
   ],
   "source": [
    "# no\n",
    "early_stopping = False\n",
    "early_stopping_patience = 2\n",
    "epochs = 30\n",
    "\n",
    "history = trainer.train(\n",
    "    train_dataset,\n",
    "    dev_dataset,\n",
    "    output_folder,\n",
    "    epochs,\n",
    "    early_stopping,\n",
    "    early_stopping_patience\n",
    ")"
   ]
  },
  {
   "cell_type": "code",
   "execution_count": 22,
   "id": "97eb133a",
   "metadata": {},
   "outputs": [],
   "source": [
    "# no\n",
    "with open(f'stud/model.pickle', 'wb') as file:\n",
    "    pickle.dump(postagger, file)"
   ]
  },
  {
   "cell_type": "code",
   "execution_count": 23,
   "id": "d5ec9aae",
   "metadata": {},
   "outputs": [],
   "source": [
    "with open(f'stud/model.pickle', 'rb') as file:\n",
    "    postagger = pickle.load(file)"
   ]
  },
  {
   "cell_type": "code",
   "execution_count": 24,
   "id": "6baca897",
   "metadata": {},
   "outputs": [
    {
     "name": "stdout",
     "output_type": "stream",
     "text": [
      "[1.2818547854056725, 0.918552829669072, 0.8666811264478244, 0.8169649793551519, 0.764442095389733, 0.7303814062705407, 0.7134072551360497, 0.7022312100117023, 0.6934135602070735, 0.6841432268802936, 0.6740672450799209, 0.6651996099031888, 0.6568704705971938, 0.6490186361166147, 0.6396339444013742, 0.6311164452479436, 0.6235317404453571, 0.6170247334700364, 0.61058221413539, 0.6049903677060053, 0.6006358907772944, 0.5965834397536057, 0.5939334493417007, 0.5920750957268935, 0.5886372098555932, 0.5856907459405752, 0.5845159979966971, 0.5828625834905184, 0.5819958540109488, 0.580972854907696]\n"
     ]
    }
   ],
   "source": [
    "print(history['valid_history'])"
   ]
  },
  {
   "cell_type": "code",
   "execution_count": 25,
   "id": "456b8ac9",
   "metadata": {},
   "outputs": [
    {
     "data": {
      "image/png": "[encoded data removed]",
      "text/plain": [
       "<Figure size 432x288 with 1 Axes>"
      ]
     },
     "metadata": {
      "needs_background": "light"
     },
     "output_type": "display_data"
    }
   ],
   "source": [
    "plt.plot(history['valid_history'])\n",
    "plt.scatter(range(len(history['valid_history'])),history['valid_history'])\n",
    "plt.show()"
   ]
  },
  {
   "cell_type": "code",
   "execution_count": 26,
   "id": "ebe541fb",
   "metadata": {},
   "outputs": [
    {
     "name": "stdout",
     "output_type": "stream",
     "text": [
      "0.580972854907696\n"
     ]
    }
   ],
   "source": [
    "epoch = epochs - 1\n",
    "#postagger.load_state_dict(torch.load(os.path.join(output_folder,'state.pt')))\n",
    "postagger.eval()\n",
    "\n",
    "valid_loss = 0.0 \n",
    "with torch.no_grad():\n",
    "    for sample in dev_dataset:\n",
    "        inputs = sample['inputs']\n",
    "        labels = sample['outputs'].view(-1)\n",
    "        predictions = postagger(inputs)\n",
    "        predictions = predictions.view(-1, predictions.shape[-1])\n",
    "        sample_loss = loss_function(predictions, labels)\n",
    "        valid_loss += sample_loss.tolist()\n",
    "print(valid_loss/len(dev_dataset))"
   ]
  },
  {
   "cell_type": "code",
   "execution_count": null,
   "id": "dc9d9456",
   "metadata": {},
   "outputs": [],
   "source": []
  },
  {
   "cell_type": "code",
   "execution_count": null,
   "id": "1fb15bf4",
   "metadata": {},
   "outputs": [],
   "source": []
  },
  {
   "cell_type": "code",
   "execution_count": 8,
   "id": "444149c8",
   "metadata": {},
   "outputs": [],
   "source": []
  }
 ],
 "metadata": {
  "kernelspec": {
   "display_name": "Python 3 (ipykernel)",
   "language": "python",
   "name": "python3"
  },
  "language_info": {
   "codemirror_mode": {
    "name": "ipython",
    "version": 3
   },
   "file_extension": ".py",
   "mimetype": "text/x-python",
   "name": "python",
   "nbconvert_exporter": "python",
   "pygments_lexer": "ipython3",
   "version": "3.9.9"
  }
 },
 "nbformat": 4,
 "nbformat_minor": 5
}
