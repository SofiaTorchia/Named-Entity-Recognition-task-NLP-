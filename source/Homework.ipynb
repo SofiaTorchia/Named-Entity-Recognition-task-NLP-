{
 "cells": [
  {
   "cell_type": "markdown",
   "id": "5dc35d45",
   "metadata": {},
   "source": [
    "# NLP First Homework: Named Entity Recognition (NER)\n",
    "\n",
    "First Homework for the NLP course\\\n",
    "Date: April 19th 2022\n",
    "\n",
    "Sofia Torcha - 1679164"
   ]
  },
  {
   "cell_type": "markdown",
   "id": "84ccf43e",
   "metadata": {},
   "source": [
    "Name Entity Recognition (NER) is a sequence labelling task that aims at locating and classifying named entities mentioned in a corpus into categories.\\\n",
    "For this tasks the following labels are considered:\\\n",
    "PER (Person),\\\n",
    "CORP (Corporation),\\\n",
    "LOC (Location),\\\n",
    "PROD (Product),\\\n",
    "GRP (Group),\\\n",
    "CW (Creative Work),\\\n",
    "O (for no named entity).\n",
    "\n",
    "For each label the BIO format is used:  a label has the prefix B- if it is the beginning of some consecutive named entities, and has the prefix I- otherwise. Therefore the labels are actually 13: B-PER, B-LOC, B-GRP, B-CORP, B-PROD, B-CW, I-PER, I-LOC, I-GRP, I-CORP, I-PROD, I-CW and O. "
   ]
  },
  {
   "cell_type": "code",
   "execution_count": 1,
   "id": "d0e35bda",
   "metadata": {},
   "outputs": [],
   "source": [
    "import torch\n",
    "from torch import nn\n",
    "import random\n",
    "import itertools\n",
    "from matplotlib import pyplot as plt\n",
    "import os\n",
    "\n",
    "import numpy as np\n",
    "from torch.utils.data import DataLoader\n",
    "import torch.optim as optim\n",
    "import pandas as pd\n",
    "import seaborn\n",
    "\n",
    "import MakeDataset as md\n",
    "import NERTaggerModel as pt\n",
    "import Trainer as tr\n",
    "import SkipGram as sk\n",
    "import Word2VecDataset as wv\n",
    "import SKTrainer as sktr\n",
    "\n",
    "SEED = 1234\n",
    "random.seed(SEED)\n",
    "np.random.seed(SEED)\n",
    "torch.manual_seed(SEED)\n",
    "torch.backends.cudnn.deterministic = True"
   ]
  },
  {
   "cell_type": "code",
   "execution_count": 10,
   "id": "a0ece60c",
   "metadata": {},
   "outputs": [],
   "source": [
    "train_path = '../../data/train.tsv'\n",
    "dev_path = '../../data/dev.tsv'\n",
    "output_folder = '../../model/Output folder'"
   ]
  },
  {
   "cell_type": "code",
   "execution_count": 3,
   "id": "92b3548f",
   "metadata": {},
   "outputs": [
    {
     "data": {
      "image/png": "[encoded data removed]",
      "text/plain": [
       "<Figure size 432x288 with 1 Axes>"
      ]
     },
     "metadata": {
      "needs_background": "light"
     },
     "output_type": "display_data"
    }
   ],
   "source": [
    "train_data = pd.read_csv(train_path, sep='\\t', header=None)\n",
    "train_data = train_data.rename(columns = {0:'token',1:'label',2:'id'})\n",
    "train_data.head()\n",
    "\n",
    "cond = train_data['label'].apply(lambda x: x != 'O' and x!='id')\n",
    "plt.hist(train_data[cond]['label'],bins=25)\n",
    "plt.xticks(rotation=80)\n",
    "plt.title('Distribution of the named entity labels in the training data')\n",
    "plt.show()"
   ]
  },
  {
   "cell_type": "markdown",
   "id": "419319ba",
   "metadata": {},
   "source": [
    "The training set is used to build a vocabulary consisting of the most 15000 frequent distinct tokens, using the string 'UNK' to encode OutOfVocabulary words, and the string 'pad' for padding (used later to build training and validation sets).\\\n",
    "The two dataset are also preprocessed before being used for the training: for each sentence in the dataset, a rolling window of  length  30 is used to create subsequences of the same size shifting the window of a single token each time, applying padding when needed. The sequences of tokens, together with the related label sequences, are encoded using the previous vocabulary and a label dictionary. The label dictionary also contains a label for the padding. For all the experiments, a batch size of 100 was employed."
   ]
  },
  {
   "cell_type": "code",
   "execution_count": 4,
   "id": "71a37b67",
   "metadata": {},
   "outputs": [],
   "source": [
    "stop_token = '#'\n",
    "unk_token = 'UNK'\n",
    "pad_token = '<pad>'\n",
    "\n",
    "window_size = 30\n",
    "window_shift = 1\n",
    "vocab_size = 15000"
   ]
  },
  {
   "cell_type": "code",
   "execution_count": 5,
   "id": "325c295f",
   "metadata": {},
   "outputs": [],
   "source": [
    "data = md.MakeDataset(train_path, window_size, window_shift, stop_token, unk_token, pad_token, vocab_size)\n",
    "\n",
    "train_dataset = data.make_dataset(train_path)\n",
    "dev_dataset = data.make_dataset(dev_path)"
   ]
  },
  {
   "cell_type": "code",
   "execution_count": 6,
   "id": "94db8da7",
   "metadata": {},
   "outputs": [
    {
     "name": "stdout",
     "output_type": "stream",
     "text": [
      "{'O': 0, 'I-GRP': 1, 'I-PER': 2, 'I-CW': 3, 'B-PER': 4, 'B-LOC': 5, 'B-CW': 6, 'B-GRP': 7, 'I-CORP': 8, 'B-CORP': 9, 'B-PROD': 10, 'I-LOC': 11, 'I-PROD': 12, '<pad>': 13}\n"
     ]
    }
   ],
   "source": [
    "print(data.label2id)"
   ]
  },
  {
   "cell_type": "code",
   "execution_count": 7,
   "id": "a6f8be99",
   "metadata": {},
   "outputs": [],
   "source": [
    "train_dataset = DataLoader(train_dataset, batch_size = 100, shuffle = True)\n",
    "dev_dataset = DataLoader(dev_dataset, batch_size = 100, shuffle = False)"
   ]
  },
  {
   "cell_type": "markdown",
   "id": "9841a5f3",
   "metadata": {},
   "source": [
    "## Simplest models: LSTM recurrent neural networks\n",
    "\n",
    "The base model structure used for this task is the LSTM model. This is a particular model of recurrent neural network able to work with long sequences of data and to learn long dependencies among them. Starting from LSTM, the model can be extended: Bi-LSTM and Bi-LSTM CRF have also been taken into account. Here, the best hyperparameters are reported."
   ]
  },
  {
   "cell_type": "code",
   "execution_count": 8,
   "id": "12a218f9",
   "metadata": {},
   "outputs": [],
   "source": [
    "class HParams():\n",
    "    vocab_size = vocab_size\n",
    "    hidden_dim = 50\n",
    "    embedding_dim = 200\n",
    "    num_classes = 14       #includes the padding label\n",
    "    bidirectional = False\n",
    "    num_layers = 1\n",
    "    dropout = 0.0\n",
    "    embeddings = None\n",
    "    crf = False\n",
    "    loss_function = nn.CrossEntropyLoss(ignore_index = data.label2id[pad_token]) \n",
    "params = HParams()"
   ]
  },
  {
   "cell_type": "code",
   "execution_count": 11,
   "id": "c6e470ef",
   "metadata": {},
   "outputs": [
    {
     "data": {
      "text/plain": [
       "<All keys matched successfully>"
      ]
     },
     "execution_count": 11,
     "metadata": {},
     "output_type": "execute_result"
    }
   ],
   "source": [
    "tagger = pt.NERTaggerModel(params)\n",
    "'''\n",
    "trainer = tr.Trainer(\n",
    "    model = tagger,\n",
    "    optimizer = optim.Adam(tagger.parameters()),\n",
    "    label_vocab = data.label2id,\n",
    ")\n",
    "'''\n",
    "model_path = 'state_LSTM.pt'\n",
    "#torch.save(tagger.state_dict(),os.path.join(output_folder,model_path))\n",
    "tagger.load_state_dict(torch.load(os.path.join(output_folder, model_path)))"
   ]
  },
  {
   "cell_type": "markdown",
   "id": "0fb8f9c6",
   "metadata": {},
   "source": [
    "## Word2Vec word-embedding\n",
    "In order to increase the performances of the model, SkipGram algorithm was used to train a word embedding and avoid a random initialization of the weights. For this task Skipgram Word2Vec used a context size of length 5 to match tokens belonging to the same context."
   ]
  },
  {
   "cell_type": "code",
   "execution_count": 12,
   "id": "fbe25229",
   "metadata": {},
   "outputs": [],
   "source": [
    "w2v_window_size = 5\n",
    "sk_epochs = 5\n",
    "\n",
    "word2vec = wv.Word2VecDataset(\n",
    "    data.tok_sentences, \n",
    "    data.word2id, \n",
    "    w2v_window_size, \n",
    "    data.frequency, \n",
    "    data.tot_occurrences\n",
    ")\n",
    "word2vec = DataLoader(word2vec,batch_size = 100)"
   ]
  },
  {
   "cell_type": "code",
   "execution_count": 13,
   "id": "284d3679",
   "metadata": {},
   "outputs": [],
   "source": [
    "embedding_dim = 200\n",
    "sk_model = sk.SkipGram(vocab_size, embedding_dim, data.id2word)\n",
    "sk_trainer = sktr.SKTrainer(sk_model, optim.Adam(sk_model.parameters()))\n",
    "#sk_history = sk_trainer.train(word2vec, output_folder, vocab_size, sk_epochs)\n",
    "weights = sk_model.state_dict()['output_weights.weight']"
   ]
  },
  {
   "cell_type": "code",
   "execution_count": 14,
   "id": "5901fa2d",
   "metadata": {},
   "outputs": [],
   "source": [
    "class HParams():\n",
    "    vocab_size = vocab_size\n",
    "    hidden_dim = 50\n",
    "    embedding_dim = 200\n",
    "    num_classes = 14      \n",
    "    bidirectional = False\n",
    "    num_layers = 1\n",
    "    dropout = 0.0\n",
    "    embeddings = weights   \n",
    "    crf = False\n",
    "    loss_function = nn.CrossEntropyLoss(ignore_index = data.label2id[pad_token]) \n",
    "params = HParams()"
   ]
  },
  {
   "cell_type": "code",
   "execution_count": 15,
   "id": "4f29398a",
   "metadata": {},
   "outputs": [
    {
     "data": {
      "text/plain": [
       "<All keys matched successfully>"
      ]
     },
     "execution_count": 15,
     "metadata": {},
     "output_type": "execute_result"
    }
   ],
   "source": [
    "tagger = pt.NERTaggerModel(params)\n",
    "'''\n",
    "trainer = tr.Trainer(\n",
    "    model = tagger,\n",
    "    optimizer = optim.Adam(tagger.parameters()),\n",
    "    label_vocab = data.label2id,\n",
    ")\n",
    "'''\n",
    "model_path = 'state_LSTM_W2V.pt'\n",
    "#torch.save(tagger.state_dict(),os.path.join(output_folder,model_path))\n",
    "tagger.load_state_dict(torch.load(os.path.join(output_folder, model_path)))"
   ]
  },
  {
   "cell_type": "markdown",
   "id": "5e91436c",
   "metadata": {},
   "source": [
    "## Bi-LSTM and dropout layers\n",
    "\n",
    "A Bi-LSTM neural network is a model consisting of two LSTM, one reading the input in the forward direction, the other in the opposite direction. This allows the model to consider also the \"future\" context of a token in order to predict its label. Such a model can be further improved by enabling a dropout layer. It was indeed shown that a dropout layer can help decreasing the risk of overfitting so a first dropout layer was inserted after the embedding layer, and a second one after the LSTM layers"
   ]
  },
  {
   "cell_type": "markdown",
   "id": "3ae7cc00",
   "metadata": {},
   "source": [
    "## Bi-LSTM CRF models\n",
    "\n",
    "The most complex tested model is the Bi-LSTM CRF model: a Bi-LSTM neural network followed by a conditional random field layer. The output computed by the Bi-LSTM is represented by a sequence of vectors that contains the scores assigned to the labels. These vectors become the inputs for a CRF layer that select the \"best\" label taking into account a transition matrix $A$ where the element $A(i,j)$ represents the score of transitioning from label $i$ to label $j$."
   ]
  },
  {
   "cell_type": "code",
   "execution_count": 16,
   "id": "af69ac97",
   "metadata": {},
   "outputs": [],
   "source": [
    "class HParams():\n",
    "    vocab_size = vocab_size\n",
    "    hidden_dim = 50\n",
    "    embedding_dim = 200\n",
    "    num_classes = 14\n",
    "    bidirectional = True\n",
    "    num_layers = 1\n",
    "    dropout = 0.2\n",
    "    embeddings = weights\n",
    "    crf = True\n",
    "    loss_function = nn.CrossEntropyLoss(ignore_index = data.label2id[pad_token])   # ignore_index = data.label2id[pad_token]\n",
    "    \n",
    "params = HParams()"
   ]
  },
  {
   "cell_type": "code",
   "execution_count": 17,
   "id": "aeef3aa1",
   "metadata": {},
   "outputs": [
    {
     "data": {
      "text/plain": [
       "<All keys matched successfully>"
      ]
     },
     "execution_count": 17,
     "metadata": {},
     "output_type": "execute_result"
    }
   ],
   "source": [
    "tagger = pt.NERTaggerModel(params)\n",
    "'''\n",
    "trainer = tr.Trainer(\n",
    "    model = tagger,\n",
    "    optimizer = optim.Adam(tagger.parameters()),\n",
    "    label_vocab = data.label2id,\n",
    ")\n",
    "'''\n",
    "model_path = 'state_BiLSTM_CRF_W2V.pt'\n",
    "#torch.save(tagger.state_dict(),os.path.join(output_folder,model_path))\n",
    "tagger.load_state_dict(torch.load(os.path.join(output_folder, model_path)))"
   ]
  },
  {
   "cell_type": "markdown",
   "id": "4ece17c1",
   "metadata": {},
   "source": [
    "## Confusion Matrix\n",
    "\n",
    "Confusion matrix for the last model"
   ]
  },
  {
   "cell_type": "code",
   "execution_count": 20,
   "id": "8b0f8769",
   "metadata": {},
   "outputs": [],
   "source": [
    "trainer = tr.Trainer(\n",
    "    model = tagger,\n",
    "    optimizer = optim.Adam(tagger.parameters()),\n",
    "    label_vocab = data.label2id,\n",
    ")\n",
    "m = trainer.confusion_matrix(dev_dataset)"
   ]
  },
  {
   "cell_type": "code",
   "execution_count": 21,
   "id": "54c9a5bd",
   "metadata": {},
   "outputs": [
    {
     "data": {
      "image/png": "[encoded data removed]",
      "text/plain": [
       "<Figure size 1008x720 with 2 Axes>"
      ]
     },
     "metadata": {
      "needs_background": "light"
     },
     "output_type": "display_data"
    }
   ],
   "source": [
    "m = m / (np.linalg.norm(m))\n",
    "plt.figure(figsize = (14,10))\n",
    "s = seaborn.heatmap(m, annot = True, cmap = 'Blues')\n",
    "plt.show()"
   ]
  },
  {
   "cell_type": "markdown",
   "id": "8db42bb4",
   "metadata": {},
   "source": [
    "# Hyperparameter tuning for Word2vec\n",
    "\n",
    "Code used for hyperparameter tuning.\\\n",
    "Each model is saved in the Output folder and then evaluated."
   ]
  },
  {
   "cell_type": "code",
   "execution_count": 153,
   "id": "6a91bca8",
   "metadata": {},
   "outputs": [],
   "source": [
    "train_path = '../../data/train.tsv'\n",
    "dev_path = '../../data/dev.tsv'\n",
    "output_folder = '../../model/Output folder'\n",
    "\n",
    "stop_token = '#'\n",
    "unk_token = 'UNK'\n",
    "pad_token = '<pad>'\n",
    "\n",
    "num_classes = 14\n",
    "vocab_size = 15000"
   ]
  },
  {
   "cell_type": "code",
   "execution_count": 154,
   "id": "48394804",
   "metadata": {},
   "outputs": [],
   "source": [
    "sk_epochs_list = [5,10,20]\n",
    "window_size_list = [5, 15, 30, 40]\n",
    "window_shift_list = [1]\n",
    "embedding_dim_list = [50, 100, 200]\n",
    "w2v_window_size_list = [5,10]\n",
    "hyperparameters = [window_size_list ,window_shift_list ,embedding_dim_list, sk_epochs_list, w2v_window_size_list]\n",
    "combinations = itertools.product(*hyperparameters)"
   ]
  },
  {
   "cell_type": "code",
   "execution_count": 156,
   "id": "ff0248c4",
   "metadata": {},
   "outputs": [],
   "source": [
    "for hyp in iter(combinations):\n",
    "    window_size = hyp[0]\n",
    "    window_shift = hyp[1]\n",
    "    embedding_dim = hyp[2]\n",
    "    sk_epochs = hyp[3]\n",
    "    w2v_window_size = hyp[4]\n",
    "\n",
    "    data = md.MakeDataset(train_path, window_size, window_shift, stop_token, unk_token, pad_token, vocab_size)\n",
    "    train_dataset = data.make_dataset(train_path)\n",
    "    train_dataset = DataLoader(train_dataset, batch_size = 100, shuffle = True)\n",
    "    dev_dataset = data.make_dataset(dev_path)\n",
    "    dev_dataset = DataLoader(dev_dataset, batch_size = 100, shuffle = False)\n",
    "    \n",
    "    word2vec = wv.Word2VecDataset(\n",
    "        data.tok_sentences, \n",
    "        data.word2id, \n",
    "        w2v_window_size, \n",
    "        data.frequency, \n",
    "        data.tot_occurrences\n",
    "    )\n",
    "    \n",
    "    word2vec = DataLoader(word2vec,batch_size = 100)\n",
    "    \n",
    "    sk_model = sk.SkipGram(vocab_size, embedding_dim, data.id2word)\n",
    "    sk_trainer = sktr.SKTrainer(sk_model, optim.Adam(sk_model.parameters()))\n",
    "    sk_history = sk_trainer.train(word2vec, output_folder, vocab_size, sk_epochs)\n",
    "    \n",
    "    #torch.save(sk_model.state_dict(),os.path.join(output_folder, f'word_embedding_{window_size}_{window_shift}_{embedding_dim}_{sk_epochs}_{w2v_window_size}.pt')) "
   ]
  },
  {
   "cell_type": "markdown",
   "id": "76b4be97",
   "metadata": {},
   "source": [
    "# Hyperparameter tuning for the NER-tagger"
   ]
  },
  {
   "cell_type": "code",
   "execution_count": 36,
   "id": "c18b44f1",
   "metadata": {},
   "outputs": [],
   "source": [
    "train_path = '../../data/train.tsv'\n",
    "dev_path = '../../data/dev.tsv'\n",
    "output_folder = '../../model/Output folder'\n",
    "\n",
    "stop_token = '#'\n",
    "unk_token = 'UNK'\n",
    "pad_token = '<pad>'\n",
    "\n",
    "num_classes = 14\n",
    "vocab_size = 15000"
   ]
  },
  {
   "cell_type": "code",
   "execution_count": 42,
   "id": "df52b310",
   "metadata": {},
   "outputs": [],
   "source": [
    "tagger_epochs_list = [4,7,10]\n",
    "sk_epochs_list = [5,10,20]\n",
    "w2v_window_size_list = [5,10]\n",
    "dropout_list = [0.0,0.2,0.4]\n",
    "window_size_list = [5, 15, 30, 40]\n",
    "window_shift_list = [1]\n",
    "embedding_dim_list = [50, 100, 200]\n",
    "crf_list = [False, True]\n",
    "bidirectional_list = [False, True] \n",
    "i = 0\n",
    "\n",
    "hyperparameters = [window_size_list ,window_shift_list ,embedding_dim_list, dropout_list\n",
    "                   sk_epochs_list, tagger_epochs_list, crf_list, bidirectional_list, w2v_window_size_list]\n",
    "combinations = itertools.product(*hyperparameters)"
   ]
  },
  {
   "cell_type": "code",
   "execution_count": 43,
   "id": "11b66d32",
   "metadata": {},
   "outputs": [],
   "source": [
    "for hyp in iter(combinations):\n",
    "    window_size = hyp[0]\n",
    "    window_shift = hyp[1]\n",
    "    embedding_dim = hyp[2]\n",
    "    dropout = hyp[3]\n",
    "    sk_epochs = hyp[4]\n",
    "    tagger_epochs = hyp[5]\n",
    "    crf = hyp[6]\n",
    "    bidirectional = hyp[7]\n",
    "    w2v_window_size = hyp[8]\n",
    "    i = i + 1\n",
    "        \n",
    "    data = md.MakeDataset(train_path, window_size, window_shift, stop_token, unk_token, pad_token, vocab_size)\n",
    "    train_dataset = data.make_dataset(train_path)\n",
    "    train_dataset = DataLoader(train_dataset, batch_size = 100, shuffle = True)\n",
    "    dev_dataset = data.make_dataset(dev_path)\n",
    "    dev_dataset = DataLoader(dev_dataset, batch_size = 100, shuffle = False)\n",
    "    \n",
    "    sk_model = sk.SkipGram(vocab_size, embedding_dim, data.id2word)\n",
    "    sk_model.load_state_dict(torch.load(os.path.join(output_folder, \n",
    "                    f'word_embedding_{window_size}_{window_shift}_{embedding_dim}_{sk_epochs}_{w2v_window_size}.pt')))\n",
    "    weights = sk_model.state_dict()['output_weights.weight']\n",
    "    \n",
    "    if merge_word_embedding:\n",
    "        v_data = vwe.VectorWordEmbedding(data, num_classes)\n",
    "        vectorized_data = v_data.vectorized_data\n",
    "        new_weights = v_data.merge_word_embeddings(weights)\n",
    "    \n",
    "    class HParams():\n",
    "        vocab_size = vocab_size\n",
    "        hidden_dim = 20\n",
    "        embedding_dim = embedding_dim\n",
    "        num_classes = num_classes\n",
    "        bidirectional = bidirectional\n",
    "        num_layers = 1\n",
    "        dropout = dropout\n",
    "        embeddings = weights\n",
    "        loss_function = nn.CrossEntropyLoss(ignore_index = data.label2id[pad_token])\n",
    "        crf = crf\n",
    "    params = HParams()\n",
    "\n",
    "    tagger = pt.NERTaggerModel(params)    \n",
    "    trainer = tr.Trainer(\n",
    "        model = tagger,\n",
    "        optimizer = optim.Adam(tagger.parameters()),\n",
    "        label_vocab = data.label2id,\n",
    "    ) \n",
    "    history = trainer.train(\n",
    "        train_dataset,\n",
    "        dev_dataset,\n",
    "        output_folder,\n",
    "        tagger_epochs,\n",
    "    )\n",
    "    #torch.save(tagger.state_dict(),os.path.join(output_folder, f'state_{i}.pt'))"
   ]
  }
 ],
 "metadata": {
  "kernelspec": {
   "display_name": "Python 3 (ipykernel)",
   "language": "python",
   "name": "python3"
  },
  "language_info": {
   "codemirror_mode": {
    "name": "ipython",
    "version": 3
   },
   "file_extension": ".py",
   "mimetype": "text/x-python",
   "name": "python",
   "nbconvert_exporter": "python",
   "pygments_lexer": "ipython3",
   "version": "3.9.9"
  }
 },
 "nbformat": 4,
 "nbformat_minor": 5
}
