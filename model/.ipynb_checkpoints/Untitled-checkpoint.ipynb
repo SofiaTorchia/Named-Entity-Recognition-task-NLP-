{
 "cells": [
  {
   "cell_type": "code",
   "execution_count": 1,
   "id": "41f2aa7b",
   "metadata": {},
   "outputs": [],
   "source": [
    "# commentare il codice\n",
    "# patience nella discesa del gradiente, early stopping\n",
    "# https://pytorch.org/docs/stable/notes/randomness.html\n",
    "# salvare i pesi del modello scelto\n",
    "# pre-embedding\n",
    "# cuda cpu..\n",
    "# evaluate the result\n",
    "# controllo per input errati, fuori da un range\n",
    "# differenza tra numero di token e numero di words\n",
    "# rimuovere punteggiatura?"
   ]
  },
  {
   "cell_type": "code",
   "execution_count": 1,
   "id": "d0e35bda",
   "metadata": {},
   "outputs": [],
   "source": [
    "import torch\n",
    "from torch import nn\n",
    "from torch.utils.data import Dataset\n",
    "from tqdm import tqdm\n",
    "from collections import Counter\n",
    "import random\n",
    "from matplotlib import pyplot as plt\n",
    "import os\n",
    "import numpy as np\n",
    "import pandas as pd\n",
    "from torch.utils.data import DataLoader\n",
    "import torch.optim as optim\n",
    "\n",
    "import MakeDataset as md\n",
    "import POSTaggerModel as pt\n",
    "import Trainer as tr\n",
    "import importlib\n",
    "importlib.reload(md)\n",
    "importlib.reload(pt)\n",
    "importlib.reload(tr)\n",
    "\n",
    "import SkipGram as sk\n",
    "import Word2VecDataset as wv\n",
    "import SKTrainer as sktr\n",
    "importlib.reload(sk)\n",
    "importlib.reload(sktr)\n",
    "importlib.reload(wv)\n",
    "\n",
    "SEED = 1234\n",
    "\n",
    "random.seed(SEED)\n",
    "np.random.seed(SEED)\n",
    "torch.manual_seed(SEED)\n",
    "torch.backends.cudnn.deterministic = True"
   ]
  },
  {
   "cell_type": "code",
   "execution_count": 14,
   "id": "f5c6df3e",
   "metadata": {},
   "outputs": [],
   "source": [
    "train_path = '../../data/train.tsv'\n",
    "dev_path = '../../data/dev.tsv'\n",
    "output_folder = '../../model/Output folder'\n",
    "stop_token = '#'\n",
    "unk_token = 'UNK'\n",
    "pad_token = '<pad>'\n",
    "window_size = 5\n",
    "window_shift = 1\n",
    "vocab_size = 10000\n",
    "embedding_dim = 100"
   ]
  },
  {
   "cell_type": "code",
   "execution_count": 15,
   "id": "bf05c635",
   "metadata": {},
   "outputs": [],
   "source": [
    "data = md.MakeDataset(train_path, window_size, window_shift, stop_token, unk_token, pad_token, vocab_size)\n",
    "train_dataset = data.make_dataset(train_path)\n",
    "train_dataset = DataLoader(train_dataset, batch_size = 5000, shuffle = True)\n",
    "dev_dataset = data.make_dataset(dev_path)\n",
    "dev_dataset = DataLoader(dev_dataset, batch_size = 1000, shuffle = False)"
   ]
  },
  {
   "cell_type": "code",
   "execution_count": 16,
   "id": "3dcf5056",
   "metadata": {},
   "outputs": [],
   "source": [
    "importlib.reload(wv)\n",
    "word2vec = wv.Word2VecDataset(data.tok_sentences, data.word2id, window_size, data.frequency, data.tot_occurrences)\n",
    "word2vec = DataLoader(word2vec,batch_size = 100)"
   ]
  },
  {
   "cell_type": "code",
   "execution_count": 17,
   "id": "1dbbe515",
   "metadata": {},
   "outputs": [
    {
     "name": "stdout",
     "output_type": "stream",
     "text": [
      "Epoch: 0, avg epoch loss = 7.1917\n",
      "Epoch: 1, avg epoch loss = 6.3292\n",
      "Epoch: 2, avg epoch loss = 6.2383\n",
      "Epoch: 3, avg epoch loss = 6.1833\n",
      "Epoch: 4, avg epoch loss = 6.1211\n",
      "Epoch: 5, avg epoch loss = 6.0602\n",
      "Epoch: 6, avg epoch loss = 5.9804\n",
      "Epoch: 7, avg epoch loss = 5.8909\n",
      "Epoch: 8, avg epoch loss = 5.7917\n",
      "Epoch: 9, avg epoch loss = 5.6870\n",
      "Epoch: 10, avg epoch loss = 5.5829\n",
      "Epoch: 11, avg epoch loss = 5.4714\n",
      "Epoch: 12, avg epoch loss = 5.3553\n",
      "Epoch: 13, avg epoch loss = 5.2462\n",
      "Epoch: 14, avg epoch loss = 5.1296\n",
      "Epoch: 15, avg epoch loss = 5.0292\n",
      "Epoch: 16, avg epoch loss = 4.9300\n",
      "Epoch: 17, avg epoch loss = 4.8325\n",
      "Epoch: 18, avg epoch loss = 4.7487\n",
      "Epoch: 19, avg epoch loss = 4.6707\n"
     ]
    }
   ],
   "source": [
    "importlib.reload(sk)\n",
    "importlib.reload(sktr)\n",
    "sk_model = sk.SkipGram(vocab_size, embedding_dim, data.id2word)\n",
    "sk_trainer = sktr.SKTrainer(sk_model, optim.Adam(sk_model.parameters()))\n",
    "sk_trainer.train(word2vec, output_folder, vocab_size, 20)"
   ]
  },
  {
   "cell_type": "code",
   "execution_count": 33,
   "id": "3528dca7",
   "metadata": {},
   "outputs": [],
   "source": [
    "weights = sk_model.state_dict()['output_weights.weight']\n",
    "#weights = None\n",
    "\n",
    "class HParams():\n",
    "    vocab_size = vocab_size\n",
    "    hidden_dim = 20\n",
    "    embedding_dim = embedding_dim\n",
    "    num_classes = 13\n",
    "    bidirectional = False\n",
    "    num_layers = 1\n",
    "    dropout = 0.0\n",
    "    embeddings = weights\n",
    "    \n",
    "params = HParams()"
   ]
  },
  {
   "cell_type": "code",
   "execution_count": 34,
   "id": "1038901e",
   "metadata": {},
   "outputs": [
    {
     "name": "stdout",
     "output_type": "stream",
     "text": [
      "Initializing embeddings from pretrained\n"
     ]
    }
   ],
   "source": [
    "loss_function = nn.CrossEntropyLoss(ignore_index = data.label2id[pad_token])\n",
    "postagger = pt.POSTaggerModel(params)\n",
    "trainer = tr.Trainer(\n",
    "    model = postagger,\n",
    "    loss_function = loss_function,\n",
    "    optimizer = optim.Adam(postagger.parameters()),\n",
    "    label_vocab = data.label2id,\n",
    ")"
   ]
  },
  {
   "cell_type": "code",
   "execution_count": 35,
   "id": "0e13f470",
   "metadata": {},
   "outputs": [
    {
     "name": "stderr",
     "output_type": "stream",
     "text": [
      "100%|███████████████████████████████████████████| 45/45 [56:54<00:00, 75.88s/it]\n"
     ]
    }
   ],
   "source": [
    "early_stopping = False\n",
    "early_stopping_patience = 2\n",
    "epochs = 45\n",
    "\n",
    "history = trainer.train(\n",
    "    train_dataset,\n",
    "    dev_dataset,\n",
    "    output_folder,\n",
    "    epochs,\n",
    "    early_stopping,\n",
    "    early_stopping_patience\n",
    ")"
   ]
  },
  {
   "cell_type": "code",
   "execution_count": 36,
   "id": "6baca897",
   "metadata": {},
   "outputs": [
    {
     "name": "stdout",
     "output_type": "stream",
     "text": [
      "[1.915164336866262, 1.0013296470350148, 0.8894951793612266, 0.8412621106420245, 0.7994601203470814, 0.7567115511213031, 0.7300425159687899, 0.7178146936455552, 0.7019948399796778, 0.685876371909161, 0.6732619173672735, 0.6629091428250683, 0.647900897629407, 0.6358703605982722, 0.6211988658321147, 0.612013714654105, 0.5997712514838394, 0.5851417767758272, 0.5772228131488878, 0.5635621876132731, 0.5561232481684003, 0.5474093154985078, 0.5416252564410774, 0.5353869467365499, 0.5273382493427822, 0.5195161225844402, 0.5141858488929515, 0.5096810301955865, 0.5071444882422077, 0.5017251354091021, 0.5006462201780203, 0.49389858148535903, 0.493202380379852, 0.48870823456316576, 0.48929828648664514, 0.482538283479457, 0.4796944461306747, 0.4836396295197156, 0.47832816595933875, 0.47727475056842883, 0.4739215897054088, 0.473006402959629, 0.47163261564410464, 0.4746122104781015, 0.47286810376206223]\n",
      "\n",
      "[1.2571261846102202, 0.8984516767355112, 0.8535863344485943, 0.8066429449961736, 0.7623967482493474, 0.7361579766640296, 0.722358749463008, 0.7126184105873108, 0.7027283952786372, 0.6937241279161893, 0.6845589876174927, 0.6752376693945664, 0.6671973466873169, 0.6583152184119592, 0.6498041015404922, 0.6425407528877258, 0.6345375042695266, 0.6280190302775457, 0.6217532112048223, 0.6156814877803509, 0.6100314672176654, 0.6044874879030081, 0.6016091933617225, 0.5972097286811242, 0.5954697269659776, 0.5917372428453885, 0.5890695131742038, 0.5881079664597144, 0.5873798865538377, 0.585052490234375, 0.5831241149168748, 0.5820834315740145, 0.5810276820109441, 0.5805456317388095, 0.5798288537905767, 0.5789901247391334, 0.5787137013215286, 0.5790574137981122, 0.5778449682088999, 0.5782742592004629, 0.5770292327954218, 0.5775461563697228, 0.5769246862484858, 0.5773963194627029, 0.5774850570238553]\n"
     ]
    }
   ],
   "source": [
    "print(history['train_history'])\n",
    "print()\n",
    "print(history['valid_history'])"
   ]
  },
  {
   "cell_type": "code",
   "execution_count": 37,
   "id": "456b8ac9",
   "metadata": {},
   "outputs": [
    {
     "data": {
      "image/png": "[encoded data removed]",
      "text/plain": [
       "<Figure size 432x288 with 1 Axes>"
      ]
     },
     "metadata": {
      "needs_background": "light"
     },
     "output_type": "display_data"
    }
   ],
   "source": [
    "plt.plot(history['valid_history'])\n",
    "plt.scatter(range(len(history['valid_history'])),history['valid_history'])\n",
    "plt.show()"
   ]
  },
  {
   "cell_type": "code",
   "execution_count": 38,
   "id": "ebe541fb",
   "metadata": {},
   "outputs": [
    {
     "name": "stdout",
     "output_type": "stream",
     "text": [
      "0.5774850570238553\n"
     ]
    }
   ],
   "source": [
    "epoch = epochs - 1\n",
    "postagger.load_state_dict(torch.load(os.path.join(output_folder,'state.pt')))\n",
    "postagger.eval()\n",
    "\n",
    "valid_loss = 0.0 \n",
    "with torch.no_grad():\n",
    "    for sample in dev_dataset:\n",
    "        inputs = sample['inputs']\n",
    "        labels = sample['outputs'].view(-1)\n",
    "        predictions = postagger(inputs)\n",
    "        predictions = predictions.view(-1, predictions.shape[-1])\n",
    "        sample_loss = loss_function(predictions, labels)\n",
    "        valid_loss += sample_loss.tolist()\n",
    "print(valid_loss/len(dev_dataset))"
   ]
  },
  {
   "cell_type": "code",
   "execution_count": null,
   "id": "88e42a5b",
   "metadata": {},
   "outputs": [],
   "source": []
  },
  {
   "cell_type": "code",
   "execution_count": null,
   "id": "dc9d9456",
   "metadata": {},
   "outputs": [],
   "source": []
  },
  {
   "cell_type": "code",
   "execution_count": null,
   "id": "1fb15bf4",
   "metadata": {},
   "outputs": [],
   "source": []
  },
  {
   "cell_type": "code",
   "execution_count": 8,
   "id": "444149c8",
   "metadata": {},
   "outputs": [],
   "source": []
  }
 ],
 "metadata": {
  "kernelspec": {
   "display_name": "Python 3 (ipykernel)",
   "language": "python",
   "name": "python3"
  },
  "language_info": {
   "codemirror_mode": {
    "name": "ipython",
    "version": 3
   },
   "file_extension": ".py",
   "mimetype": "text/x-python",
   "name": "python",
   "nbconvert_exporter": "python",
   "pygments_lexer": "ipython3",
   "version": "3.9.9"
  }
 },
 "nbformat": 4,
 "nbformat_minor": 5
}
